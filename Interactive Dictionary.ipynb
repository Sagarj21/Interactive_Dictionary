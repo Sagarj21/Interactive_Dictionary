{
 "cells": [
  {
   "cell_type": "markdown",
   "id": "f0c34940",
   "metadata": {},
   "source": [
    "# # Application: Build an Interactive Dictionary"
   ]
  },
  {
   "cell_type": "markdown",
   "id": "1080b801",
   "metadata": {},
   "source": [
    "This project consists of building an English dictionary where users can submit a word and the program returns the definition of the word. \n",
    "The data used for this project is a json dataset that contains an English dictionary.\n",
    "Loading the JSON Data into a Python Dictionary"
   ]
  },
  {
   "cell_type": "code",
   "execution_count": null,
   "id": "b03453d0",
   "metadata": {},
   "outputs": [],
   "source": [
    "import json\n",
    "from difflib import get_close_matches\n",
    "data = json.load(open(\"data.json\")) #importing required packages and data"
   ]
  },
  {
   "cell_type": "code",
   "execution_count": null,
   "id": "15309a24",
   "metadata": {},
   "outputs": [],
   "source": [
    "#function for fetching meanings and disperencies in the word taken\n",
    "def translate(w):\n",
    "    w = w.lower()#convert into lowercase\n",
    "    if w in data:\n",
    "        return data[w]\n",
    "    elif w.title() in data:#convert into Titlecase\n",
    "        return data[w.title()]\n",
    "    elif w.upper() in data: #in case user enters words like USA or NATO\n",
    "        return data[w.upper()]\n",
    "    elif len(get_close_matches(w, data.keys())) > 0:  #search for close matches\n",
    "        yn = input(\"Did you mean %s instead? Enter Y if yes, or N if no: \" % get_close_matches(w, data.keys())[0])\n",
    "        if yn == \"Y\":\n",
    "            return data[get_close_matches(w, data.keys())[0]]\n",
    "        elif yn == \"N\":\n",
    "            return \"The word doesn't exist. Please double check it.\"\n",
    "        else:\n",
    "            return \"We didn't understand your entry.\"\n",
    "    else:\n",
    "        return \"The word doesn't exist. Please double check it.\""
   ]
  },
  {
   "cell_type": "code",
   "execution_count": null,
   "id": "cd4c24ce",
   "metadata": {},
   "outputs": [],
   "source": [
    "#taking input and passing it for the processing\n",
    "word = input(\"Enter word: \")\n",
    "output = translate(word)"
   ]
  },
  {
   "cell_type": "code",
   "execution_count": null,
   "id": "21f4c87e",
   "metadata": {},
   "outputs": [],
   "source": [
    "#processing of input and fetching proper result\n",
    "if type(output) == list:\n",
    "    for item in output:\n",
    "        print(item)\n",
    "else:\n",
    "    print(output)"
   ]
  }
 ],
 "metadata": {
  "kernelspec": {
   "display_name": "Python 3 (ipykernel)",
   "language": "python",
   "name": "python3"
  },
  "language_info": {
   "codemirror_mode": {
    "name": "ipython",
    "version": 3
   },
   "file_extension": ".py",
   "mimetype": "text/x-python",
   "name": "python",
   "nbconvert_exporter": "python",
   "pygments_lexer": "ipython3",
   "version": "3.8.0"
  }
 },
 "nbformat": 4,
 "nbformat_minor": 5
}
